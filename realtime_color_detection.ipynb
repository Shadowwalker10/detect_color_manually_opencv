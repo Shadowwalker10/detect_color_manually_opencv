{
 "cells": [
  {
   "cell_type": "markdown",
   "id": "b7ed2370",
   "metadata": {},
   "source": [
    "## Importing Libraries"
   ]
  },
  {
   "cell_type": "code",
   "execution_count": 7,
   "id": "4f052e87",
   "metadata": {},
   "outputs": [],
   "source": [
    "import cv2\n",
    "import numpy as np"
   ]
  },
  {
   "cell_type": "markdown",
   "id": "224a5072",
   "metadata": {},
   "source": [
    "## Code"
   ]
  },
  {
   "cell_type": "code",
   "execution_count": null,
   "id": "15350812",
   "metadata": {},
   "outputs": [],
   "source": [
    "width = 640\n",
    "height = 480\n",
    "cap = cv2.VideoCapture(0)\n",
    "cap.set(3,width)\n",
    "cap.set(4, height)\n",
    "\n",
    "def empty(a):\n",
    "    pass\n",
    "\n",
    "#Introducing Trackbar\n",
    "cv2.namedWindow(winname = \"HSV Track Bar\")\n",
    "cv2.resizeWindow(\"HSV Track Bar\",640,240)\n",
    "cv2.createTrackbar('Hue Min','HSV Track Bar',\n",
    "                  0,360,empty)\n",
    "cv2.createTrackbar('Hue Max','HSV Track Bar',\n",
    "                  360,360,empty)\n",
    "cv2.createTrackbar('Sat Min','HSV Track Bar',\n",
    "                  0,255,empty)\n",
    "cv2.createTrackbar('Sat Max','HSV Track Bar',\n",
    "                  255,255,empty)\n",
    "cv2.createTrackbar('Value Min','HSV Track Bar',\n",
    "                  0,255,empty)\n",
    "cv2.createTrackbar('Value Max','HSV Track Bar',\n",
    "                  255,255,empty)\n",
    "\n",
    "\n",
    "while True:\n",
    "    _,img = cap.read()\n",
    "    #img_hsv = cv2.cvtColor(img,cv2.COLOR_BGR2HSV)\n",
    "    img_hsv = cv2.cvtColor(img,cv2.COLOR_BGR2HSV_FULL)\n",
    "    \n",
    "    #Retrieve value from trackbar\n",
    "    h_min = cv2.getTrackbarPos('Hue Min','HSV Track Bar')\n",
    "    h_max = cv2.getTrackbarPos('Hue Max','HSV Track Bar')\n",
    "    \n",
    "    s_min = cv2.getTrackbarPos('Sat Min','HSV Track Bar')\n",
    "    s_max = cv2.getTrackbarPos('Sat Max','HSV Track Bar')\n",
    "    \n",
    "    v_min = cv2.getTrackbarPos('Value Min','HSV Track Bar')\n",
    "    v_max = cv2.getTrackbarPos('Value Max','HSV Track Bar')\n",
    "    \n",
    "    lower_range = np.array([h_min,s_min,v_min])\n",
    "    upper_range = np.array([h_max,s_max,v_max])\n",
    "    \n",
    "    #Create a mask\n",
    "    mask = cv2.inRange(src = img_hsv,lowerb = lower_range,upperb = upper_range)\n",
    "    \n",
    "    #Overlay the mask over the image\n",
    "    result = cv2.bitwise_and(img,img,mask = mask)\n",
    "    \n",
    "    #Stacking the results\n",
    "    stack = np.hstack([cv2.resize(img,(200,200)),cv2.resize(result,(200,200)),\n",
    "                       cv2.resize(cv2.cvtColor(mask,cv2.COLOR_GRAY2BGR),(200,200))])\n",
    "    \n",
    "    #cv2.imshow('Webcam',img)\n",
    "    #cv2.imshow('Mask',mask)\n",
    "    #cv2.imshow('Result',result)\n",
    "    #cv2.imshow('HSV',img_hsv)\n",
    "    #cv2.imshow('HSV_full',img_hsv_full)\n",
    "    cv2.imshow('Stacked',stack)\n",
    "    if cv2.waitKey(1) & 0xFF==ord('q'):\n",
    "        break\n",
    "cap.release()\n",
    "cv2.destroyAllWindows()"
   ]
  },
  {
   "cell_type": "code",
   "execution_count": null,
   "id": "dc878fe7",
   "metadata": {},
   "outputs": [],
   "source": []
  }
 ],
 "metadata": {
  "kernelspec": {
   "display_name": "Python 3 (ipykernel)",
   "language": "python",
   "name": "python3"
  },
  "language_info": {
   "codemirror_mode": {
    "name": "ipython",
    "version": 3
   },
   "file_extension": ".py",
   "mimetype": "text/x-python",
   "name": "python",
   "nbconvert_exporter": "python",
   "pygments_lexer": "ipython3",
   "version": "3.9.7"
  }
 },
 "nbformat": 4,
 "nbformat_minor": 5
}
